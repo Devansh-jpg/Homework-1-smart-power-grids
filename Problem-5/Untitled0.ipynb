{
  "nbformat": 4,
  "nbformat_minor": 0,
  "metadata": {
    "colab": {
      "provenance": []
    },
    "kernelspec": {
      "name": "python3",
      "display_name": "Python 3"
    },
    "language_info": {
      "name": "python"
    }
  },
  "cells": [
    {
      "cell_type": "code",
      "execution_count": 56,
      "metadata": {
        "id": "EuOCf5YanMjf"
      },
      "outputs": [],
      "source": [
        "# import zipfile\n",
        "# import os\n",
        "\n",
        "# # Path to the zip file\n",
        "# zip_file_path = '/content/data_Oct21_to_Jan24.zip'\n",
        "\n",
        "# # Directory where the contents will be extracted\n",
        "# extract_to = '/content/data'\n",
        "\n",
        "# # Ensure the output directory exists\n",
        "# os.makedirs(extract_to, exist_ok=True)\n",
        "\n",
        "# # Unzip the file\n",
        "# with zipfile.ZipFile(zip_file_path, 'r') as zip_ref:\n",
        "#     zip_ref.extractall(extract_to)"
      ]
    },
    {
      "cell_type": "code",
      "source": [
        "import pandas as pd\n",
        "import os\n",
        "\n",
        "def calculate_energy_stats(data):\n",
        "    data['x1'] = pd.to_datetime(data['x1'], format='%Y-%m-%d %H:%M:%S')\n",
        "    data['x2'] = pd.to_datetime(data['x2'], format='%Y-%m-%d %H:%M:%S', errors='coerce')\n",
        "    data['x2'].fillna(data['x1'].shift(-1), inplace=True)\n",
        "    data.dropna(subset=['x2'], inplace=True)\n",
        "\n",
        "    total_energy_produced = (data['ActivePower'] * (1/6)).sum()\n",
        "    total_duration_hours = (data['x2'].max() - data['x1'].min()).total_seconds() / 3600\n",
        "    day = data['x1'].min().date()\n",
        "\n",
        "    return day, total_energy_produced, total_duration_hours\n",
        "\n",
        "\n",
        "directory = './data/data_Oct21_to_Jan24'\n",
        "rated_capacity = 1000 * 24\n",
        "energy_stats_list = []\n",
        "\n",
        "for filename in os.listdir(directory):\n",
        "    if filename.endswith('.xlsx') and ( '2022' in filename ):\n",
        "        file_path = os.path.join(directory, filename)\n",
        "        data = pd.read_excel(file_path)\n",
        "        day, total_energy_produced, total_duration_hours = calculate_energy_stats(data)\n",
        "\n",
        "        energy_stats_list.append({\n",
        "            'Day': day,\n",
        "            'Total Energy Produced (kWh)': total_energy_produced,\n",
        "            'Total Duration (hours)': total_duration_hours\n",
        "        })\n",
        "\n",
        "energy_stats_df = pd.DataFrame(energy_stats_list)\n",
        "energy_stats_df = energy_stats_df.sort_values(by='Day')\n",
        "output_csv = 'energy_stats_2021_2022_2023.csv'\n",
        "energy_stats_df.to_csv(output_csv, index=False)\n",
        "\n",
        "print(f\"Energy stats saved to {output_csv}\")"
      ],
      "metadata": {
        "colab": {
          "base_uri": "https://localhost:8080/"
        },
        "id": "esbaha_yqJJF",
        "outputId": "69bbec03-abeb-462a-a7d6-6684a4b1065c"
      },
      "execution_count": 57,
      "outputs": [
        {
          "output_type": "stream",
          "name": "stdout",
          "text": [
            "Energy stats saved to energy_stats_2021_2022_2023.csv\n"
          ]
        }
      ]
    },
    {
      "cell_type": "code",
      "source": [
        "df=energy_stats_df"
      ],
      "metadata": {
        "id": "DGBy0-Daqg-Y"
      },
      "execution_count": 58,
      "outputs": []
    },
    {
      "cell_type": "code",
      "source": [],
      "metadata": {
        "id": "D-SwRZyFsG02"
      },
      "execution_count": 58,
      "outputs": []
    },
    {
      "cell_type": "code",
      "source": [],
      "metadata": {
        "id": "rGv9IlkJszTS"
      },
      "execution_count": 58,
      "outputs": []
    },
    {
      "cell_type": "code",
      "source": [
        "df['Day'] = pd.to_datetime(df['Day'])\n",
        "\n",
        "# Filter for May 2021\n",
        "may_2021_df = df[(df['Day'].dt.year == 2022) & (df['Day'].dt.month == 5)]\n",
        "\n",
        "print(may_2021_df)"
      ],
      "metadata": {
        "colab": {
          "base_uri": "https://localhost:8080/"
        },
        "id": "2opada4cs2FX",
        "outputId": "d23fa86b-4208-43dd-c686-160fffcef914"
      },
      "execution_count": 59,
      "outputs": [
        {
          "output_type": "stream",
          "name": "stdout",
          "text": [
            "           Day  Total Energy Produced (kWh)  Total Duration (hours)\n",
            "157 2022-05-01                  3971.377500               14.000000\n",
            "78  2022-05-02                  1156.587000               14.000000\n",
            "348 2022-05-03                  2813.143333               14.000000\n",
            "347 2022-05-04                  4231.315333               14.000000\n",
            "249 2022-05-05                  4827.189833               14.000000\n",
            "265 2022-05-06                  4112.551833               14.000000\n",
            "284 2022-05-07                  2639.786333               14.000000\n",
            "63  2022-05-08                  4464.027000               14.000000\n",
            "272 2022-05-09                  4191.942833               14.000000\n",
            "49  2022-05-10                  2667.720000               14.333333\n",
            "144 2022-05-11                  3492.694833               14.333333\n",
            "104 2022-05-12                  3616.466000               14.333333\n",
            "275 2022-05-13                  1257.202333               14.333333\n",
            "99  2022-05-14                  1427.027333               14.166667\n",
            "155 2022-05-15                  1432.631000               14.000000\n",
            "183 2022-05-16                  1407.493000               14.166667\n",
            "66  2022-05-17                  1389.267000               14.333333\n",
            "164 2022-05-18                  3730.725500               14.333333\n",
            "245 2022-05-19                  2180.757167               14.333333\n",
            "68  2022-05-20                  2922.281167               14.333333\n",
            "323 2022-05-21                  2940.592167               14.166667\n",
            "343 2022-05-22                  3813.681833               14.333333\n",
            "51  2022-05-23                  3371.594500               14.333333\n",
            "306 2022-05-24                  4063.019500               14.333333\n",
            "364 2022-05-25                  1265.817167               14.333333\n",
            "268 2022-05-26                  4234.120500               14.333333\n",
            "152 2022-05-27                  3426.580000               14.333333\n",
            "175 2022-05-28                  4403.163167               14.333333\n",
            "85  2022-05-29                  4051.650500               14.500000\n",
            "359 2022-05-30                  3356.404833               14.500000\n",
            "153 2022-05-31                  2512.756833               14.500000\n"
          ]
        }
      ]
    },
    {
      "cell_type": "code",
      "source": [
        "may_2021_df.head()"
      ],
      "metadata": {
        "colab": {
          "base_uri": "https://localhost:8080/",
          "height": 206
        },
        "id": "oqoWSAjby93D",
        "outputId": "67041b61-808b-48ab-ca10-78df6ff4539a"
      },
      "execution_count": 60,
      "outputs": [
        {
          "output_type": "execute_result",
          "data": {
            "text/plain": [
              "           Day  Total Energy Produced (kWh)  Total Duration (hours)\n",
              "157 2022-05-01                  3971.377500                    14.0\n",
              "78  2022-05-02                  1156.587000                    14.0\n",
              "348 2022-05-03                  2813.143333                    14.0\n",
              "347 2022-05-04                  4231.315333                    14.0\n",
              "249 2022-05-05                  4827.189833                    14.0"
            ],
            "text/html": [
              "\n",
              "  <div id=\"df-0a8465c1-a7f7-47ae-a37d-93b789dc551d\" class=\"colab-df-container\">\n",
              "    <div>\n",
              "<style scoped>\n",
              "    .dataframe tbody tr th:only-of-type {\n",
              "        vertical-align: middle;\n",
              "    }\n",
              "\n",
              "    .dataframe tbody tr th {\n",
              "        vertical-align: top;\n",
              "    }\n",
              "\n",
              "    .dataframe thead th {\n",
              "        text-align: right;\n",
              "    }\n",
              "</style>\n",
              "<table border=\"1\" class=\"dataframe\">\n",
              "  <thead>\n",
              "    <tr style=\"text-align: right;\">\n",
              "      <th></th>\n",
              "      <th>Day</th>\n",
              "      <th>Total Energy Produced (kWh)</th>\n",
              "      <th>Total Duration (hours)</th>\n",
              "    </tr>\n",
              "  </thead>\n",
              "  <tbody>\n",
              "    <tr>\n",
              "      <th>157</th>\n",
              "      <td>2022-05-01</td>\n",
              "      <td>3971.377500</td>\n",
              "      <td>14.0</td>\n",
              "    </tr>\n",
              "    <tr>\n",
              "      <th>78</th>\n",
              "      <td>2022-05-02</td>\n",
              "      <td>1156.587000</td>\n",
              "      <td>14.0</td>\n",
              "    </tr>\n",
              "    <tr>\n",
              "      <th>348</th>\n",
              "      <td>2022-05-03</td>\n",
              "      <td>2813.143333</td>\n",
              "      <td>14.0</td>\n",
              "    </tr>\n",
              "    <tr>\n",
              "      <th>347</th>\n",
              "      <td>2022-05-04</td>\n",
              "      <td>4231.315333</td>\n",
              "      <td>14.0</td>\n",
              "    </tr>\n",
              "    <tr>\n",
              "      <th>249</th>\n",
              "      <td>2022-05-05</td>\n",
              "      <td>4827.189833</td>\n",
              "      <td>14.0</td>\n",
              "    </tr>\n",
              "  </tbody>\n",
              "</table>\n",
              "</div>\n",
              "    <div class=\"colab-df-buttons\">\n",
              "\n",
              "  <div class=\"colab-df-container\">\n",
              "    <button class=\"colab-df-convert\" onclick=\"convertToInteractive('df-0a8465c1-a7f7-47ae-a37d-93b789dc551d')\"\n",
              "            title=\"Convert this dataframe to an interactive table.\"\n",
              "            style=\"display:none;\">\n",
              "\n",
              "  <svg xmlns=\"http://www.w3.org/2000/svg\" height=\"24px\" viewBox=\"0 -960 960 960\">\n",
              "    <path d=\"M120-120v-720h720v720H120Zm60-500h600v-160H180v160Zm220 220h160v-160H400v160Zm0 220h160v-160H400v160ZM180-400h160v-160H180v160Zm440 0h160v-160H620v160ZM180-180h160v-160H180v160Zm440 0h160v-160H620v160Z\"/>\n",
              "  </svg>\n",
              "    </button>\n",
              "\n",
              "  <style>\n",
              "    .colab-df-container {\n",
              "      display:flex;\n",
              "      gap: 12px;\n",
              "    }\n",
              "\n",
              "    .colab-df-convert {\n",
              "      background-color: #E8F0FE;\n",
              "      border: none;\n",
              "      border-radius: 50%;\n",
              "      cursor: pointer;\n",
              "      display: none;\n",
              "      fill: #1967D2;\n",
              "      height: 32px;\n",
              "      padding: 0 0 0 0;\n",
              "      width: 32px;\n",
              "    }\n",
              "\n",
              "    .colab-df-convert:hover {\n",
              "      background-color: #E2EBFA;\n",
              "      box-shadow: 0px 1px 2px rgba(60, 64, 67, 0.3), 0px 1px 3px 1px rgba(60, 64, 67, 0.15);\n",
              "      fill: #174EA6;\n",
              "    }\n",
              "\n",
              "    .colab-df-buttons div {\n",
              "      margin-bottom: 4px;\n",
              "    }\n",
              "\n",
              "    [theme=dark] .colab-df-convert {\n",
              "      background-color: #3B4455;\n",
              "      fill: #D2E3FC;\n",
              "    }\n",
              "\n",
              "    [theme=dark] .colab-df-convert:hover {\n",
              "      background-color: #434B5C;\n",
              "      box-shadow: 0px 1px 3px 1px rgba(0, 0, 0, 0.15);\n",
              "      filter: drop-shadow(0px 1px 2px rgba(0, 0, 0, 0.3));\n",
              "      fill: #FFFFFF;\n",
              "    }\n",
              "  </style>\n",
              "\n",
              "    <script>\n",
              "      const buttonEl =\n",
              "        document.querySelector('#df-0a8465c1-a7f7-47ae-a37d-93b789dc551d button.colab-df-convert');\n",
              "      buttonEl.style.display =\n",
              "        google.colab.kernel.accessAllowed ? 'block' : 'none';\n",
              "\n",
              "      async function convertToInteractive(key) {\n",
              "        const element = document.querySelector('#df-0a8465c1-a7f7-47ae-a37d-93b789dc551d');\n",
              "        const dataTable =\n",
              "          await google.colab.kernel.invokeFunction('convertToInteractive',\n",
              "                                                    [key], {});\n",
              "        if (!dataTable) return;\n",
              "\n",
              "        const docLinkHtml = 'Like what you see? Visit the ' +\n",
              "          '<a target=\"_blank\" href=https://colab.research.google.com/notebooks/data_table.ipynb>data table notebook</a>'\n",
              "          + ' to learn more about interactive tables.';\n",
              "        element.innerHTML = '';\n",
              "        dataTable['output_type'] = 'display_data';\n",
              "        await google.colab.output.renderOutput(dataTable, element);\n",
              "        const docLink = document.createElement('div');\n",
              "        docLink.innerHTML = docLinkHtml;\n",
              "        element.appendChild(docLink);\n",
              "      }\n",
              "    </script>\n",
              "  </div>\n",
              "\n",
              "\n",
              "<div id=\"df-c24a5c88-d019-48f6-8435-995ba3031b47\">\n",
              "  <button class=\"colab-df-quickchart\" onclick=\"quickchart('df-c24a5c88-d019-48f6-8435-995ba3031b47')\"\n",
              "            title=\"Suggest charts\"\n",
              "            style=\"display:none;\">\n",
              "\n",
              "<svg xmlns=\"http://www.w3.org/2000/svg\" height=\"24px\"viewBox=\"0 0 24 24\"\n",
              "     width=\"24px\">\n",
              "    <g>\n",
              "        <path d=\"M19 3H5c-1.1 0-2 .9-2 2v14c0 1.1.9 2 2 2h14c1.1 0 2-.9 2-2V5c0-1.1-.9-2-2-2zM9 17H7v-7h2v7zm4 0h-2V7h2v10zm4 0h-2v-4h2v4z\"/>\n",
              "    </g>\n",
              "</svg>\n",
              "  </button>\n",
              "\n",
              "<style>\n",
              "  .colab-df-quickchart {\n",
              "      --bg-color: #E8F0FE;\n",
              "      --fill-color: #1967D2;\n",
              "      --hover-bg-color: #E2EBFA;\n",
              "      --hover-fill-color: #174EA6;\n",
              "      --disabled-fill-color: #AAA;\n",
              "      --disabled-bg-color: #DDD;\n",
              "  }\n",
              "\n",
              "  [theme=dark] .colab-df-quickchart {\n",
              "      --bg-color: #3B4455;\n",
              "      --fill-color: #D2E3FC;\n",
              "      --hover-bg-color: #434B5C;\n",
              "      --hover-fill-color: #FFFFFF;\n",
              "      --disabled-bg-color: #3B4455;\n",
              "      --disabled-fill-color: #666;\n",
              "  }\n",
              "\n",
              "  .colab-df-quickchart {\n",
              "    background-color: var(--bg-color);\n",
              "    border: none;\n",
              "    border-radius: 50%;\n",
              "    cursor: pointer;\n",
              "    display: none;\n",
              "    fill: var(--fill-color);\n",
              "    height: 32px;\n",
              "    padding: 0;\n",
              "    width: 32px;\n",
              "  }\n",
              "\n",
              "  .colab-df-quickchart:hover {\n",
              "    background-color: var(--hover-bg-color);\n",
              "    box-shadow: 0 1px 2px rgba(60, 64, 67, 0.3), 0 1px 3px 1px rgba(60, 64, 67, 0.15);\n",
              "    fill: var(--button-hover-fill-color);\n",
              "  }\n",
              "\n",
              "  .colab-df-quickchart-complete:disabled,\n",
              "  .colab-df-quickchart-complete:disabled:hover {\n",
              "    background-color: var(--disabled-bg-color);\n",
              "    fill: var(--disabled-fill-color);\n",
              "    box-shadow: none;\n",
              "  }\n",
              "\n",
              "  .colab-df-spinner {\n",
              "    border: 2px solid var(--fill-color);\n",
              "    border-color: transparent;\n",
              "    border-bottom-color: var(--fill-color);\n",
              "    animation:\n",
              "      spin 1s steps(1) infinite;\n",
              "  }\n",
              "\n",
              "  @keyframes spin {\n",
              "    0% {\n",
              "      border-color: transparent;\n",
              "      border-bottom-color: var(--fill-color);\n",
              "      border-left-color: var(--fill-color);\n",
              "    }\n",
              "    20% {\n",
              "      border-color: transparent;\n",
              "      border-left-color: var(--fill-color);\n",
              "      border-top-color: var(--fill-color);\n",
              "    }\n",
              "    30% {\n",
              "      border-color: transparent;\n",
              "      border-left-color: var(--fill-color);\n",
              "      border-top-color: var(--fill-color);\n",
              "      border-right-color: var(--fill-color);\n",
              "    }\n",
              "    40% {\n",
              "      border-color: transparent;\n",
              "      border-right-color: var(--fill-color);\n",
              "      border-top-color: var(--fill-color);\n",
              "    }\n",
              "    60% {\n",
              "      border-color: transparent;\n",
              "      border-right-color: var(--fill-color);\n",
              "    }\n",
              "    80% {\n",
              "      border-color: transparent;\n",
              "      border-right-color: var(--fill-color);\n",
              "      border-bottom-color: var(--fill-color);\n",
              "    }\n",
              "    90% {\n",
              "      border-color: transparent;\n",
              "      border-bottom-color: var(--fill-color);\n",
              "    }\n",
              "  }\n",
              "</style>\n",
              "\n",
              "  <script>\n",
              "    async function quickchart(key) {\n",
              "      const quickchartButtonEl =\n",
              "        document.querySelector('#' + key + ' button');\n",
              "      quickchartButtonEl.disabled = true;  // To prevent multiple clicks.\n",
              "      quickchartButtonEl.classList.add('colab-df-spinner');\n",
              "      try {\n",
              "        const charts = await google.colab.kernel.invokeFunction(\n",
              "            'suggestCharts', [key], {});\n",
              "      } catch (error) {\n",
              "        console.error('Error during call to suggestCharts:', error);\n",
              "      }\n",
              "      quickchartButtonEl.classList.remove('colab-df-spinner');\n",
              "      quickchartButtonEl.classList.add('colab-df-quickchart-complete');\n",
              "    }\n",
              "    (() => {\n",
              "      let quickchartButtonEl =\n",
              "        document.querySelector('#df-c24a5c88-d019-48f6-8435-995ba3031b47 button');\n",
              "      quickchartButtonEl.style.display =\n",
              "        google.colab.kernel.accessAllowed ? 'block' : 'none';\n",
              "    })();\n",
              "  </script>\n",
              "</div>\n",
              "\n",
              "    </div>\n",
              "  </div>\n"
            ],
            "application/vnd.google.colaboratory.intrinsic+json": {
              "type": "dataframe",
              "variable_name": "may_2021_df",
              "summary": "{\n  \"name\": \"may_2021_df\",\n  \"rows\": 31,\n  \"fields\": [\n    {\n      \"column\": \"Day\",\n      \"properties\": {\n        \"dtype\": \"date\",\n        \"min\": \"2022-05-01 00:00:00\",\n        \"max\": \"2022-05-31 00:00:00\",\n        \"num_unique_values\": 31,\n        \"samples\": [\n          \"2022-05-28 00:00:00\",\n          \"2022-05-16 00:00:00\",\n          \"2022-05-24 00:00:00\"\n        ],\n        \"semantic_type\": \"\",\n        \"description\": \"\"\n      }\n    },\n    {\n      \"column\": \"Total Energy Produced (kWh)\",\n      \"properties\": {\n        \"dtype\": \"number\",\n        \"std\": 1141.7839659089066,\n        \"min\": 1156.5869999999998,\n        \"max\": 4827.189833333334,\n        \"num_unique_values\": 31,\n        \"samples\": [\n          4403.163166666666,\n          1407.4929999999997,\n          4063.0195\n        ],\n        \"semantic_type\": \"\",\n        \"description\": \"\"\n      }\n    },\n    {\n      \"column\": \"Total Duration (hours)\",\n      \"properties\": {\n        \"dtype\": \"number\",\n        \"std\": 0.17505759420922773,\n        \"min\": 14.0,\n        \"max\": 14.5,\n        \"num_unique_values\": 4,\n        \"samples\": [\n          14.333333333333334,\n          14.5,\n          14.0\n        ],\n        \"semantic_type\": \"\",\n        \"description\": \"\"\n      }\n    }\n  ]\n}"
            }
          },
          "metadata": {},
          "execution_count": 60
        }
      ]
    },
    {
      "cell_type": "code",
      "source": [
        "df=may_2021_df\n",
        "df['Day'] = pd.to_datetime(df['Day'])\n",
        "\n",
        "# Compute the new column\n",
        "df['power_value'] = (df['Total Energy Produced (kWh)'] / 1000 / df['Total Duration (hours)'])\n",
        "\n",
        "# Plot the graph\n",
        "plt.figure(figsize=(10, 6))\n",
        "plt.plot(df['Day'], df['power_value'], marker='o', linestyle='-', color='b')\n",
        "\n",
        "# Add labels and title\n",
        "plt.xlabel('Date')\n",
        "plt.ylabel('Power Value (kWh)')\n",
        "plt.title('Power Value Over Time')\n",
        "plt.grid(True)\n",
        "\n",
        "# Show the plot\n",
        "plt.show()"
      ],
      "metadata": {
        "colab": {
          "base_uri": "https://localhost:8080/",
          "height": 772
        },
        "id": "WhduViKXzN6v",
        "outputId": "3f9f3dac-5706-4884-c458-81ccf9ef7be1"
      },
      "execution_count": 61,
      "outputs": [
        {
          "output_type": "stream",
          "name": "stderr",
          "text": [
            "<ipython-input-61-f56b1b46d89f>:2: SettingWithCopyWarning: \n",
            "A value is trying to be set on a copy of a slice from a DataFrame.\n",
            "Try using .loc[row_indexer,col_indexer] = value instead\n",
            "\n",
            "See the caveats in the documentation: https://pandas.pydata.org/pandas-docs/stable/user_guide/indexing.html#returning-a-view-versus-a-copy\n",
            "  df['Day'] = pd.to_datetime(df['Day'])\n",
            "<ipython-input-61-f56b1b46d89f>:5: SettingWithCopyWarning: \n",
            "A value is trying to be set on a copy of a slice from a DataFrame.\n",
            "Try using .loc[row_indexer,col_indexer] = value instead\n",
            "\n",
            "See the caveats in the documentation: https://pandas.pydata.org/pandas-docs/stable/user_guide/indexing.html#returning-a-view-versus-a-copy\n",
            "  df['power_value'] = (df['Total Energy Produced (kWh)'] / 1000 / df['Total Duration (hours)'])\n"
          ]
        },
        {
          "output_type": "display_data",
          "data": {
            "text/plain": [
              "<Figure size 1000x600 with 1 Axes>"
            ],
            "image/png": "[encoded data removed]"
          },
          "metadata": {}
        }
      ]
    },
    {
      "cell_type": "code",
      "source": [
        "average_value = df['power_value'].mean()"
      ],
      "metadata": {
        "id": "dKUAKOOK0xJ5"
      },
      "execution_count": 62,
      "outputs": []
    },
    {
      "cell_type": "code",
      "source": [
        "average_value"
      ],
      "metadata": {
        "colab": {
          "base_uri": "https://localhost:8080/"
        },
        "id": "2w1h18FA1SN_",
        "outputId": "3a7c3474-c56f-48e3-ec65-b0630e8ffaed"
      },
      "execution_count": 63,
      "outputs": [
        {
          "output_type": "execute_result",
          "data": {
            "text/plain": [
              "0.2163492984354463"
            ]
          },
          "metadata": {},
          "execution_count": 63
        }
      ]
    },
    {
      "cell_type": "code",
      "source": [
        "import pandas as pd\n",
        "\n",
        "data = pd.read_csv('energy_stats_2021_2022_2023.csv')\n",
        "data['Day'] = pd.to_datetime(data['Day'], format='%Y-%m-%d')\n",
        "data['Month'] = data['Day'].dt.to_period('M')\n",
        "monthly_data = data.groupby('Month').agg(\n",
        "    Total_Energy_Produced=('Total Energy Produced (kWh)', 'sum'),\n",
        "    Total_Duration_Hours=('Total Duration (hours)', 'sum')\n",
        ").reset_index()\n",
        "monthly_data['Capacity_Factor'] = monthly_data['Total_Energy_Produced'] / (14 * 1000 * 30)\n",
        "output_csv = 'monthly_capacity_factors.csv'\n",
        "monthly_data[['Month', 'Capacity_Factor']].to_csv(output_csv, index=False)\n",
        "\n",
        "print(f\"Monthly capacity factors saved to {output_csv}\")"
      ],
      "metadata": {
        "colab": {
          "base_uri": "https://localhost:8080/"
        },
        "id": "-Txahqj71UXd",
        "outputId": "e930c269-78dd-42c8-fb25-fd68dc4ed6d0"
      },
      "execution_count": 64,
      "outputs": [
        {
          "output_type": "stream",
          "name": "stdout",
          "text": [
            "Monthly capacity factors saved to monthly_capacity_factors.csv\n"
          ]
        }
      ]
    },
    {
      "cell_type": "code",
      "source": [
        "import pandas as pd\n",
        "import matplotlib.pyplot as plt\n",
        "\n",
        "data = pd.read_csv(\"./monthly_capacity_factors.csv\")\n",
        "data[\"Month\"] = pd.to_datetime(data[\"Month\"])\n",
        "\n",
        "\n",
        "plt.figure(figsize=(12, 6))\n",
        "plt.plot(data[\"Month\"], data[\"Capacity_Factor\"], marker=\"o\", linestyle=\"-\")\n",
        "plt.title(\"Capacity Factor vs. Month\")\n",
        "plt.xlabel(\"Month\")\n",
        "plt.ylabel(\"Capacity Factor\")\n",
        "plt.grid(True)\n",
        "plt.xticks(rotation=45)\n",
        "\n",
        "plt.show()"
      ],
      "metadata": {
        "colab": {
          "base_uri": "https://localhost:8080/",
          "height": 601
        },
        "id": "v5rqyeJO2u1g",
        "outputId": "84bf7fa0-08ae-4017-c04a-29dfffdaa1f0"
      },
      "execution_count": 65,
      "outputs": [
        {
          "output_type": "display_data",
          "data": {
            "text/plain": [
              "<Figure size 1200x600 with 1 Axes>"
            ],
            "image/png": "[encoded data removed]"
          },
          "metadata": {}
        }
      ]
    },
    {
      "cell_type": "code",
      "source": [
        "average_value = monthly_data['Capacity_Factor'].mean()"
      ],
      "metadata": {
        "id": "3idfxARU3Im0"
      },
      "execution_count": 66,
      "outputs": []
    },
    {
      "cell_type": "code",
      "source": [
        "average_value"
      ],
      "metadata": {
        "colab": {
          "base_uri": "https://localhost:8080/"
        },
        "id": "VHH0I-z33965",
        "outputId": "c9860bae-035a-43de-d893-221966172970"
      },
      "execution_count": 67,
      "outputs": [
        {
          "output_type": "execute_result",
          "data": {
            "text/plain": [
              "0.2175765645171958"
            ]
          },
          "metadata": {},
          "execution_count": 67
        }
      ]
    },
    {
      "cell_type": "code",
      "source": [
        "\n",
        "directory = './data/data_Oct21_to_Jan24'\n",
        "rated_capacity = 1000 * 24\n",
        "energy_stats_list = []\n",
        "\n",
        "for filename in os.listdir(directory):\n",
        "    if filename.endswith('.xlsx') and ( '2021' in filename or '2022' in filename or '2023' in filename ):\n",
        "        file_path = os.path.join(directory, filename)\n",
        "        data = pd.read_excel(file_path)\n",
        "        day, total_energy_produced, total_duration_hours = calculate_energy_stats(data)\n",
        "\n",
        "        energy_stats_list.append({\n",
        "            'Day': day,\n",
        "            'Total Energy Produced (kWh)': total_energy_produced,\n",
        "            'Total Duration (hours)': total_duration_hours\n",
        "        })\n",
        "\n",
        "energy_stats_df = pd.DataFrame(energy_stats_list)\n",
        "energy_stats_df = energy_stats_df.sort_values(by='Day')\n",
        "output_csv = 'energy_stats_2021_2022_2023.csv'\n",
        "energy_stats_df.to_csv(output_csv, index=False)\n",
        "\n",
        "print(f\"Energy stats saved to {output_csv}\")"
      ],
      "metadata": {
        "colab": {
          "base_uri": "https://localhost:8080/"
        },
        "id": "_SXfnuJL3_pc",
        "outputId": "93885b25-27ab-4320-d6cd-a40603eb5525"
      },
      "execution_count": 68,
      "outputs": [
        {
          "output_type": "stream",
          "name": "stdout",
          "text": [
            "Energy stats saved to energy_stats_2021_2022_2023.csv\n"
          ]
        }
      ]
    },
    {
      "cell_type": "code",
      "source": [
        "data = pd.read_csv('energy_stats_2021_2022_2023.csv')\n",
        "data.head()\n"
      ],
      "metadata": {
        "colab": {
          "base_uri": "https://localhost:8080/",
          "height": 206
        },
        "id": "JBUP95ku54Co",
        "outputId": "68a2576c-b3a5-4627-c7a2-43b9805a7ef0"
      },
      "execution_count": 69,
      "outputs": [
        {
          "output_type": "execute_result",
          "data": {
            "text/plain": [
              "          Day  Total Energy Produced (kWh)  Total Duration (hours)\n",
              "0  2021-09-18                  1363.653000               13.166667\n",
              "1  2021-09-19                  3196.993500               13.166667\n",
              "2  2021-09-20                  2936.996333               13.000000\n",
              "3  2021-09-21                  1953.728167               13.000000\n",
              "4  2021-09-22                  2854.130833               13.000000"
            ],
            "text/html": [
              "\n",
              "  <div id=\"df-e5c48306-a72c-4b95-88aa-a8fe8cb7d941\" class=\"colab-df-container\">\n",
              "    <div>\n",
              "<style scoped>\n",
              "    .dataframe tbody tr th:only-of-type {\n",
              "        vertical-align: middle;\n",
              "    }\n",
              "\n",
              "    .dataframe tbody tr th {\n",
              "        vertical-align: top;\n",
              "    }\n",
              "\n",
              "    .dataframe thead th {\n",
              "        text-align: right;\n",
              "    }\n",
              "</style>\n",
              "<table border=\"1\" class=\"dataframe\">\n",
              "  <thead>\n",
              "    <tr style=\"text-align: right;\">\n",
              "      <th></th>\n",
              "      <th>Day</th>\n",
              "      <th>Total Energy Produced (kWh)</th>\n",
              "      <th>Total Duration (hours)</th>\n",
              "    </tr>\n",
              "  </thead>\n",
              "  <tbody>\n",
              "    <tr>\n",
              "      <th>0</th>\n",
              "      <td>2021-09-18</td>\n",
              "      <td>1363.653000</td>\n",
              "      <td>13.166667</td>\n",
              "    </tr>\n",
              "    <tr>\n",
              "      <th>1</th>\n",
              "      <td>2021-09-19</td>\n",
              "      <td>3196.993500</td>\n",
              "      <td>13.166667</td>\n",
              "    </tr>\n",
              "    <tr>\n",
              "      <th>2</th>\n",
              "      <td>2021-09-20</td>\n",
              "      <td>2936.996333</td>\n",
              "      <td>13.000000</td>\n",
              "    </tr>\n",
              "    <tr>\n",
              "      <th>3</th>\n",
              "      <td>2021-09-21</td>\n",
              "      <td>1953.728167</td>\n",
              "      <td>13.000000</td>\n",
              "    </tr>\n",
              "    <tr>\n",
              "      <th>4</th>\n",
              "      <td>2021-09-22</td>\n",
              "      <td>2854.130833</td>\n",
              "      <td>13.000000</td>\n",
              "    </tr>\n",
              "  </tbody>\n",
              "</table>\n",
              "</div>\n",
              "    <div class=\"colab-df-buttons\">\n",
              "\n",
              "  <div class=\"colab-df-container\">\n",
              "    <button class=\"colab-df-convert\" onclick=\"convertToInteractive('df-e5c48306-a72c-4b95-88aa-a8fe8cb7d941')\"\n",
              "            title=\"Convert this dataframe to an interactive table.\"\n",
              "            style=\"display:none;\">\n",
              "\n",
              "  <svg xmlns=\"http://www.w3.org/2000/svg\" height=\"24px\" viewBox=\"0 -960 960 960\">\n",
              "    <path d=\"M120-120v-720h720v720H120Zm60-500h600v-160H180v160Zm220 220h160v-160H400v160Zm0 220h160v-160H400v160ZM180-400h160v-160H180v160Zm440 0h160v-160H620v160ZM180-180h160v-160H180v160Zm440 0h160v-160H620v160Z\"/>\n",
              "  </svg>\n",
              "    </button>\n",
              "\n",
              "  <style>\n",
              "    .colab-df-container {\n",
              "      display:flex;\n",
              "      gap: 12px;\n",
              "    }\n",
              "\n",
              "    .colab-df-convert {\n",
              "      background-color: #E8F0FE;\n",
              "      border: none;\n",
              "      border-radius: 50%;\n",
              "      cursor: pointer;\n",
              "      display: none;\n",
              "      fill: #1967D2;\n",
              "      height: 32px;\n",
              "      padding: 0 0 0 0;\n",
              "      width: 32px;\n",
              "    }\n",
              "\n",
              "    .colab-df-convert:hover {\n",
              "      background-color: #E2EBFA;\n",
              "      box-shadow: 0px 1px 2px rgba(60, 64, 67, 0.3), 0px 1px 3px 1px rgba(60, 64, 67, 0.15);\n",
              "      fill: #174EA6;\n",
              "    }\n",
              "\n",
              "    .colab-df-buttons div {\n",
              "      margin-bottom: 4px;\n",
              "    }\n",
              "\n",
              "    [theme=dark] .colab-df-convert {\n",
              "      background-color: #3B4455;\n",
              "      fill: #D2E3FC;\n",
              "    }\n",
              "\n",
              "    [theme=dark] .colab-df-convert:hover {\n",
              "      background-color: #434B5C;\n",
              "      box-shadow: 0px 1px 3px 1px rgba(0, 0, 0, 0.15);\n",
              "      filter: drop-shadow(0px 1px 2px rgba(0, 0, 0, 0.3));\n",
              "      fill: #FFFFFF;\n",
              "    }\n",
              "  </style>\n",
              "\n",
              "    <script>\n",
              "      const buttonEl =\n",
              "        document.querySelector('#df-e5c48306-a72c-4b95-88aa-a8fe8cb7d941 button.colab-df-convert');\n",
              "      buttonEl.style.display =\n",
              "        google.colab.kernel.accessAllowed ? 'block' : 'none';\n",
              "\n",
              "      async function convertToInteractive(key) {\n",
              "        const element = document.querySelector('#df-e5c48306-a72c-4b95-88aa-a8fe8cb7d941');\n",
              "        const dataTable =\n",
              "          await google.colab.kernel.invokeFunction('convertToInteractive',\n",
              "                                                    [key], {});\n",
              "        if (!dataTable) return;\n",
              "\n",
              "        const docLinkHtml = 'Like what you see? Visit the ' +\n",
              "          '<a target=\"_blank\" href=https://colab.research.google.com/notebooks/data_table.ipynb>data table notebook</a>'\n",
              "          + ' to learn more about interactive tables.';\n",
              "        element.innerHTML = '';\n",
              "        dataTable['output_type'] = 'display_data';\n",
              "        await google.colab.output.renderOutput(dataTable, element);\n",
              "        const docLink = document.createElement('div');\n",
              "        docLink.innerHTML = docLinkHtml;\n",
              "        element.appendChild(docLink);\n",
              "      }\n",
              "    </script>\n",
              "  </div>\n",
              "\n",
              "\n",
              "<div id=\"df-343d5e38-7966-4fb4-9d6c-317d54a45998\">\n",
              "  <button class=\"colab-df-quickchart\" onclick=\"quickchart('df-343d5e38-7966-4fb4-9d6c-317d54a45998')\"\n",
              "            title=\"Suggest charts\"\n",
              "            style=\"display:none;\">\n",
              "\n",
              "<svg xmlns=\"http://www.w3.org/2000/svg\" height=\"24px\"viewBox=\"0 0 24 24\"\n",
              "     width=\"24px\">\n",
              "    <g>\n",
              "        <path d=\"M19 3H5c-1.1 0-2 .9-2 2v14c0 1.1.9 2 2 2h14c1.1 0 2-.9 2-2V5c0-1.1-.9-2-2-2zM9 17H7v-7h2v7zm4 0h-2V7h2v10zm4 0h-2v-4h2v4z\"/>\n",
              "    </g>\n",
              "</svg>\n",
              "  </button>\n",
              "\n",
              "<style>\n",
              "  .colab-df-quickchart {\n",
              "      --bg-color: #E8F0FE;\n",
              "      --fill-color: #1967D2;\n",
              "      --hover-bg-color: #E2EBFA;\n",
              "      --hover-fill-color: #174EA6;\n",
              "      --disabled-fill-color: #AAA;\n",
              "      --disabled-bg-color: #DDD;\n",
              "  }\n",
              "\n",
              "  [theme=dark] .colab-df-quickchart {\n",
              "      --bg-color: #3B4455;\n",
              "      --fill-color: #D2E3FC;\n",
              "      --hover-bg-color: #434B5C;\n",
              "      --hover-fill-color: #FFFFFF;\n",
              "      --disabled-bg-color: #3B4455;\n",
              "      --disabled-fill-color: #666;\n",
              "  }\n",
              "\n",
              "  .colab-df-quickchart {\n",
              "    background-color: var(--bg-color);\n",
              "    border: none;\n",
              "    border-radius: 50%;\n",
              "    cursor: pointer;\n",
              "    display: none;\n",
              "    fill: var(--fill-color);\n",
              "    height: 32px;\n",
              "    padding: 0;\n",
              "    width: 32px;\n",
              "  }\n",
              "\n",
              "  .colab-df-quickchart:hover {\n",
              "    background-color: var(--hover-bg-color);\n",
              "    box-shadow: 0 1px 2px rgba(60, 64, 67, 0.3), 0 1px 3px 1px rgba(60, 64, 67, 0.15);\n",
              "    fill: var(--button-hover-fill-color);\n",
              "  }\n",
              "\n",
              "  .colab-df-quickchart-complete:disabled,\n",
              "  .colab-df-quickchart-complete:disabled:hover {\n",
              "    background-color: var(--disabled-bg-color);\n",
              "    fill: var(--disabled-fill-color);\n",
              "    box-shadow: none;\n",
              "  }\n",
              "\n",
              "  .colab-df-spinner {\n",
              "    border: 2px solid var(--fill-color);\n",
              "    border-color: transparent;\n",
              "    border-bottom-color: var(--fill-color);\n",
              "    animation:\n",
              "      spin 1s steps(1) infinite;\n",
              "  }\n",
              "\n",
              "  @keyframes spin {\n",
              "    0% {\n",
              "      border-color: transparent;\n",
              "      border-bottom-color: var(--fill-color);\n",
              "      border-left-color: var(--fill-color);\n",
              "    }\n",
              "    20% {\n",
              "      border-color: transparent;\n",
              "      border-left-color: var(--fill-color);\n",
              "      border-top-color: var(--fill-color);\n",
              "    }\n",
              "    30% {\n",
              "      border-color: transparent;\n",
              "      border-left-color: var(--fill-color);\n",
              "      border-top-color: var(--fill-color);\n",
              "      border-right-color: var(--fill-color);\n",
              "    }\n",
              "    40% {\n",
              "      border-color: transparent;\n",
              "      border-right-color: var(--fill-color);\n",
              "      border-top-color: var(--fill-color);\n",
              "    }\n",
              "    60% {\n",
              "      border-color: transparent;\n",
              "      border-right-color: var(--fill-color);\n",
              "    }\n",
              "    80% {\n",
              "      border-color: transparent;\n",
              "      border-right-color: var(--fill-color);\n",
              "      border-bottom-color: var(--fill-color);\n",
              "    }\n",
              "    90% {\n",
              "      border-color: transparent;\n",
              "      border-bottom-color: var(--fill-color);\n",
              "    }\n",
              "  }\n",
              "</style>\n",
              "\n",
              "  <script>\n",
              "    async function quickchart(key) {\n",
              "      const quickchartButtonEl =\n",
              "        document.querySelector('#' + key + ' button');\n",
              "      quickchartButtonEl.disabled = true;  // To prevent multiple clicks.\n",
              "      quickchartButtonEl.classList.add('colab-df-spinner');\n",
              "      try {\n",
              "        const charts = await google.colab.kernel.invokeFunction(\n",
              "            'suggestCharts', [key], {});\n",
              "      } catch (error) {\n",
              "        console.error('Error during call to suggestCharts:', error);\n",
              "      }\n",
              "      quickchartButtonEl.classList.remove('colab-df-spinner');\n",
              "      quickchartButtonEl.classList.add('colab-df-quickchart-complete');\n",
              "    }\n",
              "    (() => {\n",
              "      let quickchartButtonEl =\n",
              "        document.querySelector('#df-343d5e38-7966-4fb4-9d6c-317d54a45998 button');\n",
              "      quickchartButtonEl.style.display =\n",
              "        google.colab.kernel.accessAllowed ? 'block' : 'none';\n",
              "    })();\n",
              "  </script>\n",
              "</div>\n",
              "\n",
              "    </div>\n",
              "  </div>\n"
            ],
            "application/vnd.google.colaboratory.intrinsic+json": {
              "type": "dataframe",
              "variable_name": "data",
              "summary": "{\n  \"name\": \"data\",\n  \"rows\": 709,\n  \"fields\": [\n    {\n      \"column\": \"Day\",\n      \"properties\": {\n        \"dtype\": \"object\",\n        \"num_unique_values\": 708,\n        \"samples\": [\n          \"2022-01-17\",\n          \"2022-05-24\",\n          \"2022-08-09\"\n        ],\n        \"semantic_type\": \"\",\n        \"description\": \"\"\n      }\n    },\n    {\n      \"column\": \"Total Energy Produced (kWh)\",\n      \"properties\": {\n        \"dtype\": \"number\",\n        \"std\": 942.479740986218,\n        \"min\": 360.4674999999999,\n        \"max\": 5022.626666666666,\n        \"num_unique_values\": 708,\n        \"samples\": [\n          2750.334833333333,\n          4063.0195,\n          2738.121333333333\n        ],\n        \"semantic_type\": \"\",\n        \"description\": \"\"\n      }\n    },\n    {\n      \"column\": \"Total Duration (hours)\",\n      \"properties\": {\n        \"dtype\": \"number\",\n        \"std\": 1.1569921233795861,\n        \"min\": 6.666666666666667,\n        \"max\": 14.666666666666666,\n        \"num_unique_values\": 22,\n        \"samples\": [\n          13.166666666666666,\n          13.5,\n          11.833333333333334\n        ],\n        \"semantic_type\": \"\",\n        \"description\": \"\"\n      }\n    }\n  ]\n}"
            }
          },
          "metadata": {},
          "execution_count": 69
        }
      ]
    },
    {
      "cell_type": "code",
      "source": [
        "import pandas as pd\n",
        "import matplotlib.pyplot as plt\n",
        "\n",
        "# Sample dataframe\n",
        "\n",
        "df =data\n",
        "\n",
        "# Convert the 'date' column to datetime format\n",
        "df['Day'] = pd.to_datetime(df['Day'])\n",
        "\n",
        "# Extract the year from the date\n",
        "df['year'] = df['Day'].dt.year\n",
        "df['capacity_factor'] = (df['Total Energy Produced (kWh)'] / 1000 / df['Total Duration (hours)'])\n",
        "# Group by year and calculate the average capacity factor for each year\n",
        "yearly_avg = df.groupby('year')['capacity_factor'].mean().reset_index()\n",
        "\n",
        "# Plot the graph\n",
        "plt.figure(figsize=(8, 6))\n",
        "plt.plot(yearly_avg['year'], yearly_avg['capacity_factor'], marker='o', linestyle='-', color='b')\n",
        "\n",
        "# Add labels and title\n",
        "plt.xlabel('Year')\n",
        "plt.ylabel('Average Capacity Factor')\n",
        "plt.title('Year vs Average Capacity Factor')\n",
        "plt.grid(True)\n",
        "\n",
        "# Show the plot\n",
        "plt.show()\n"
      ],
      "metadata": {
        "colab": {
          "base_uri": "https://localhost:8080/",
          "height": 564
        },
        "id": "A8nVAU7a6Kw6",
        "outputId": "425d69a1-9049-43fd-8a00-fcf1ad3c2908"
      },
      "execution_count": 70,
      "outputs": [
        {
          "output_type": "display_data",
          "data": {
            "text/plain": [
              "<Figure size 800x600 with 1 Axes>"
            ],
            "image/png": "[encoded data removed]"
          },
          "metadata": {}
        }
      ]
    },
    {
      "cell_type": "code",
      "source": [],
      "metadata": {
        "id": "ZFivgaXW8wEh"
      },
      "execution_count": 70,
      "outputs": []
    }
  ]
}